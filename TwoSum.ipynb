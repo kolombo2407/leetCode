{
 "cells": [
  {
   "cell_type": "markdown",
   "id": "572f0cc9",
   "metadata": {},
   "source": [
    "Given an array of integers nums and an integer target, return indices of the two numbers such that they add up to target. <br>You may assume that each input would have exactly one solution, and you may not use the same element twice.<br>You can return the answer in any order.<br><b>Example 1:</b> <br>Input: nums = [2,7,11,15], target = 9 <br>Output: [0,1] <br>Explanation: Because nums[0] + nums[1] == 9, we return [0, 1].<br><b>Example 2:</b> <br>Input: nums = [3,2,4], target = 6 <br>Output: [1,2] <br><b>Example 3:</b> <br>Input: nums = [3,3], target = 6 <br>Output: [0,1]"
   ]
  },
  {
   "cell_type": "markdown",
   "id": "013dc552",
   "metadata": {},
   "source": [
    "### brute force"
   ]
  },
  {
   "cell_type": "code",
   "execution_count": 32,
   "id": "29960a67",
   "metadata": {},
   "outputs": [],
   "source": [
    "def two_sum_bf(nums: list, target: int) -> list:\n",
    "    '''\n",
    "    going through the all elements in list and searching for a pair in sum giving target\n",
    "    complexity O(n^2)\n",
    "    '''\n",
    "    for i in range(len(nums)):\n",
    "        for j in range(i+1, len(nums)):\n",
    "            if nums[j] == target - nums[i]:\n",
    "                return [i, j]"
   ]
  },
  {
   "cell_type": "markdown",
   "id": "d3429144",
   "metadata": {},
   "source": [
    "### two-pass hash table"
   ]
  },
  {
   "cell_type": "code",
   "execution_count": 34,
   "id": "9fc62013",
   "metadata": {},
   "outputs": [],
   "source": [
    "def two_sum_2ht(nums: list, target: int) -> list:\n",
    "    '''\n",
    "    in first iteration we creating a hashmap with key - element of nums and value as element's index\n",
    "    second iteration we chech if complement (calculated value as difference of target and elemnet in nums)\n",
    "    is in hashmap and evoid the complement is nums[i] itself, in case of True return \n",
    "    index i and index saved as value in hashmap with a key equal complement\n",
    "    Trading space for time (as soon as creation of hashmap consumes memory)\n",
    "    '''\n",
    "    hashmap = {}\n",
    "    for i in range(len(nums)):\n",
    "        hashmap[nums[i]] = i\n",
    "    for i in range(len(nums)):\n",
    "        complement = target - nums[i]\n",
    "        if complement in hashmap and hashmap[complement] != i:\n",
    "            return[i, hashmap[complement]]"
   ]
  },
  {
   "cell_type": "markdown",
   "id": "7ea78a8a",
   "metadata": {},
   "source": [
    "### one-pass hash table"
   ]
  },
  {
   "cell_type": "code",
   "execution_count": 35,
   "id": "d371c617",
   "metadata": {},
   "outputs": [],
   "source": [
    "def two_sum_1ht(nums: list, target: int) -> list:\n",
    "    '''\n",
    "    iterating and insrting elements into hash table, we also look bach to check if current element's \n",
    "    complement already exists in the hash table. If it exists, we've found a solution and return indeces\n",
    "    Worst case scenario's complexity is the same as two-pass hash table approach\n",
    "    '''\n",
    "    hashmap = {}\n",
    "    for i in range(len(nums)):\n",
    "        complement = target - nums[i]\n",
    "        if complement in hashmap:\n",
    "            return[hashmap[complement], i]\n",
    "        hashmap[nums[i]] = i"
   ]
  },
  {
   "cell_type": "markdown",
   "id": "a554e643",
   "metadata": {},
   "source": [
    "### tests"
   ]
  },
  {
   "cell_type": "code",
   "execution_count": 25,
   "id": "315c9372",
   "metadata": {},
   "outputs": [],
   "source": [
    "nums = [[2,7,11,15], [3,2,4], [3,3]]\n",
    "target = [9, 6, 6]\n",
    "result = [[0,1], [1,2], [0,1]]"
   ]
  },
  {
   "cell_type": "code",
   "execution_count": 29,
   "id": "e8c60998",
   "metadata": {},
   "outputs": [],
   "source": [
    "for i in range(len(nums)):\n",
    "    assert two_sum_bf(nums[i], target[i]) == result[i]\n",
    "    assert two_sum_2ht(nums[i], target[i]) == result[i]\n",
    "    assert two_sum_1ht(nums[i], target[i]) == result[i]"
   ]
  }
 ],
 "metadata": {
  "kernelspec": {
   "display_name": "Python 3 (ipykernel)",
   "language": "python",
   "name": "python3"
  },
  "language_info": {
   "codemirror_mode": {
    "name": "ipython",
    "version": 3
   },
   "file_extension": ".py",
   "mimetype": "text/x-python",
   "name": "python",
   "nbconvert_exporter": "python",
   "pygments_lexer": "ipython3",
   "version": "3.10.6"
  }
 },
 "nbformat": 4,
 "nbformat_minor": 5
}
