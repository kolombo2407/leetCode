{
 "cells": [
  {
   "cell_type": "markdown",
   "id": "68f2d4e8",
   "metadata": {},
   "source": [
    "Given two strings s and t, determine if they are isomorphic.\n",
    "\n",
    "Two strings s and t are isomorphic if the characters in s can be replaced to get t.\n",
    "\n",
    "All occurrences of a character must be replaced with another character while preserving the order of characters. No two characters may map to the same character, but a character may map to itself.\n",
    "\n",
    " \n",
    "\n",
    "Example 1:\n",
    "\n",
    "Input: s = \"egg\", t = \"add\"\n",
    "Output: true\n",
    "Example 2:\n",
    "\n",
    "Input: s = \"foo\", t = \"bar\"\n",
    "Output: false"
   ]
  },
  {
   "cell_type": "code",
   "execution_count": 14,
   "id": "f897df28",
   "metadata": {},
   "outputs": [],
   "source": [
    "def isomorphic(s: str, t: str) -> bool:\n",
    "    mapping_s_t = {}\n",
    "    mapping_t_s = {}\n",
    "    \n",
    "    for c1, c2 in zip(s, t):\n",
    "        if (c1 not in mapping_s_t) and (c2 not in mapping_t_s):\n",
    "            mapping_s_t[c1] = c2\n",
    "            mapping_t_s[c2] = c1\n",
    "        elif mapping_s_t.get(c1) != c2 or mapping_t_s.get(c2) != c1:\n",
    "            return False\n",
    "    return True"
   ]
  },
  {
   "cell_type": "code",
   "execution_count": 15,
   "id": "0cea60b4",
   "metadata": {},
   "outputs": [],
   "source": [
    "assert isomorphic(s='egg', t='add') == True\n",
    "assert isomorphic(s='foo', t='bar') == False\n",
    "assert isomorphic(s='paper', t='title') == True\n",
    "assert isomorphic(s='badc', t='baba') == False"
   ]
  }
 ],
 "metadata": {
  "kernelspec": {
   "display_name": "Python 3 (ipykernel)",
   "language": "python",
   "name": "python3"
  },
  "language_info": {
   "codemirror_mode": {
    "name": "ipython",
    "version": 3
   },
   "file_extension": ".py",
   "mimetype": "text/x-python",
   "name": "python",
   "nbconvert_exporter": "python",
   "pygments_lexer": "ipython3",
   "version": "3.10.6"
  }
 },
 "nbformat": 4,
 "nbformat_minor": 5
}
