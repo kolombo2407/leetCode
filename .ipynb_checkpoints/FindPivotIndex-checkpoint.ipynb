{
 "cells": [
  {
   "cell_type": "markdown",
   "id": "18866fce",
   "metadata": {},
   "source": [
    "Given an array of integers nums, calculate the pivot index of this array.\n",
    "\n",
    "The pivot index is the index where the sum of all the numbers strictly to the left of the index is equal to the sum of all the numbers strictly to the index's right.\n",
    "\n",
    "If the index is on the left edge of the array, then the left sum is 0 because there are no elements to the left. This also applies to the right edge of the array.\n",
    "\n",
    "Return the leftmost pivot index. If no such index exists, return -1.\n",
    "\n"
   ]
  },
  {
   "cell_type": "markdown",
   "id": "c0c33eef",
   "metadata": {},
   "source": [
    "Input: nums = [1,7,3,6,5,6] <p>\n",
    "Output: 3 <p>\n",
    "Explanation: <p>\n",
    "The pivot index is 3. <p>\n",
    "Left sum = nums[0] + nums[1] + nums[2] = 1 + 7 + 3 = 11 <p>\n",
    "Right sum = nums[4] + nums[5] = 5 + 6 = 11"
   ]
  },
  {
   "cell_type": "code",
   "execution_count": 49,
   "id": "39e35fd0",
   "metadata": {},
   "outputs": [],
   "source": [
    "def pivot_index(nums: list) -> int:\n",
    "    right_sum = sum(nums)\n",
    "    left_sum = 0\n",
    "    for i, num in enumerate(nums):\n",
    "        right_sum -= num\n",
    "        if left_sum == right_sum:\n",
    "            return i\n",
    "        left_sum += num\n",
    "    return -1\n"
   ]
  },
  {
   "cell_type": "code",
   "execution_count": 50,
   "id": "6cf414e1",
   "metadata": {},
   "outputs": [],
   "source": [
    "assert pivot_index([1,7,3,6,5,6]) == 3\n",
    "assert pivot_index([1,2,3]) == -1\n",
    "assert pivot_index([2,1,-1]) == 0"
   ]
  }
 ],
 "metadata": {
  "kernelspec": {
   "display_name": "Python 3 (ipykernel)",
   "language": "python",
   "name": "python3"
  },
  "language_info": {
   "codemirror_mode": {
    "name": "ipython",
    "version": 3
   },
   "file_extension": ".py",
   "mimetype": "text/x-python",
   "name": "python",
   "nbconvert_exporter": "python",
   "pygments_lexer": "ipython3",
   "version": "3.10.6"
  }
 },
 "nbformat": 4,
 "nbformat_minor": 5
}
