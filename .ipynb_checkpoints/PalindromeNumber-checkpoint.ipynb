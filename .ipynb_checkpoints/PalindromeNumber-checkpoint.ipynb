{
 "cells": [
  {
   "cell_type": "markdown",
   "id": "7587d69f",
   "metadata": {},
   "source": [
    "### Description"
   ]
  },
  {
   "cell_type": "markdown",
   "id": "0eed952b",
   "metadata": {},
   "source": [
    "Given an integer x, return true if x is a \n",
    "palindrome\n",
    ", and false otherwise."
   ]
  },
  {
   "cell_type": "code",
   "execution_count": 85,
   "id": "9d3841c9",
   "metadata": {},
   "outputs": [],
   "source": [
    "def is_palindrome(num: int) -> bool:\n",
    "    if 9 => num >=0:\n",
    "        return True\n",
    "    elif num < 0:\n",
    "        return False\n",
    "    "
   ]
  },
  {
   "cell_type": "code",
   "execution_count": null,
   "id": "fa80cd1d",
   "metadata": {},
   "outputs": [],
   "source": []
  },
  {
   "cell_type": "code",
   "execution_count": null,
   "id": "de943fe2",
   "metadata": {},
   "outputs": [],
   "source": []
  },
  {
   "cell_type": "code",
   "execution_count": null,
   "id": "53b9039a",
   "metadata": {},
   "outputs": [],
   "source": []
  },
  {
   "cell_type": "code",
   "execution_count": null,
   "id": "ee89bbb7",
   "metadata": {},
   "outputs": [],
   "source": []
  },
  {
   "cell_type": "code",
   "execution_count": null,
   "id": "6ec3f7e7",
   "metadata": {},
   "outputs": [],
   "source": []
  },
  {
   "cell_type": "code",
   "execution_count": null,
   "id": "c01bfe22",
   "metadata": {},
   "outputs": [],
   "source": []
  },
  {
   "cell_type": "code",
   "execution_count": null,
   "id": "78331324",
   "metadata": {},
   "outputs": [],
   "source": []
  },
  {
   "cell_type": "code",
   "execution_count": null,
   "id": "249ac6f5",
   "metadata": {},
   "outputs": [],
   "source": []
  },
  {
   "cell_type": "code",
   "execution_count": null,
   "id": "3e43bb51",
   "metadata": {},
   "outputs": [],
   "source": [
    "assert is_palindrome(121) == True\n",
    "assert is_palindrome(-121) == False\n",
    "assert is_palindrome(3223) == True "
   ]
  },
  {
   "cell_type": "code",
   "execution_count": 19,
   "id": "57391560",
   "metadata": {},
   "outputs": [],
   "source": [
    "import numpy as np\n",
    "\n",
    "X = np.array([[1,1],[3,1]])\n",
    "y = np.array([[10], [4]])\n",
    "theta = np.array([[1], [1]])\n",
    "eta = .1\n",
    "m = 2"
   ]
  },
  {
   "cell_type": "code",
   "execution_count": 30,
   "id": "0cfecd20",
   "metadata": {},
   "outputs": [],
   "source": [
    "grad = 2/m * X.T@(X@theta - y)"
   ]
  },
  {
   "cell_type": "code",
   "execution_count": 31,
   "id": "7067c654",
   "metadata": {},
   "outputs": [
    {
     "data": {
      "text/plain": [
       "array([[-0.8],\n",
       "       [-0.8]])"
      ]
     },
     "execution_count": 31,
     "metadata": {},
     "output_type": "execute_result"
    }
   ],
   "source": [
    "eta*grad"
   ]
  },
  {
   "cell_type": "code",
   "execution_count": 32,
   "id": "9c78d47b",
   "metadata": {},
   "outputs": [
    {
     "data": {
      "text/plain": [
       "array([[1.8],\n",
       "       [1.8]])"
      ]
     },
     "execution_count": 32,
     "metadata": {},
     "output_type": "execute_result"
    }
   ],
   "source": [
    "theta - eta*grad"
   ]
  },
  {
   "cell_type": "code",
   "execution_count": 33,
   "id": "12d9462f",
   "metadata": {},
   "outputs": [],
   "source": [
    "c = None"
   ]
  },
  {
   "cell_type": "code",
   "execution_count": 34,
   "id": "6836989d",
   "metadata": {},
   "outputs": [],
   "source": [
    "c = np.array(1)"
   ]
  },
  {
   "cell_type": "code",
   "execution_count": null,
   "id": "d6cb3298",
   "metadata": {},
   "outputs": [],
   "source": []
  }
 ],
 "metadata": {
  "kernelspec": {
   "display_name": "Python 3 (ipykernel)",
   "language": "python",
   "name": "python3"
  },
  "language_info": {
   "codemirror_mode": {
    "name": "ipython",
    "version": 3
   },
   "file_extension": ".py",
   "mimetype": "text/x-python",
   "name": "python",
   "nbconvert_exporter": "python",
   "pygments_lexer": "ipython3",
   "version": "3.10.6"
  }
 },
 "nbformat": 4,
 "nbformat_minor": 5
}
